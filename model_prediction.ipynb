{
 "cells": [
  {
   "attachments": {},
   "cell_type": "markdown",
   "metadata": {},
   "source": [
    "# Testing Model\n",
    "\n",
    "This language model is primarily trained for tasks like digit recognition, making it well-suited for documentation scanning.\n",
    "With slight modifications, it can be extended to recognize alphabets as well.Additionally,when combined with a strong NLP model, it can help understand the content of the document more effectively."
   ]
  },
  {
   "cell_type": "code",
   "execution_count": 1,
   "metadata": {},
   "outputs": [],
   "source": [
    "import numpy as np\n",
    "import tensorflow as tf"
   ]
  },
  {
   "cell_type": "code",
   "execution_count": 51,
   "metadata": {},
   "outputs": [],
   "source": [
    "# Loading model\n",
    "cnn=tf.keras.models.load_model('digit_reco_model.h5')\n",
    "\n",
    "#Creating Function\n",
    "from keras.utils import load_img,img_to_array\n",
    "def finder(address_of_img:str)->list:\n",
    "  test_img=load_img(address_of_img,target_size=(64,64))\n",
    "  test_img=img_to_array(test_img)\n",
    "  test_img=np.expand_dims(test_img,axis=0) #add fake dimentions\n",
    "  result=list(cnn.predict(test_img)[0])\n",
    "  return([i for i in range(len(result)) if result[i]==1])"
   ]
  },
  {
   "cell_type": "code",
   "execution_count": 54,
   "metadata": {},
   "outputs": [
    {
     "name": "stdout",
     "output_type": "stream",
     "text": [
      "1/1 [==============================] - 0s 113ms/step\n",
      "Digit Predicted by model is [7]\n"
     ]
    }
   ],
   "source": [
    "answer=finder(r'digits\\Prediction\\Seven.png')\n",
    "print(f\"Digit Predicted by model is {answer}\")"
   ]
  },
  {
   "cell_type": "code",
   "execution_count": 66,
   "metadata": {},
   "outputs": [
    {
     "name": "stdout",
     "output_type": "stream",
     "text": [
      "1/1 [==============================] - 0s 78ms/step\n",
      "Digit Predicted by model is [5]\n"
     ]
    }
   ],
   "source": [
    "answer=finder(r'digits\\Prediction\\five.png')\n",
    "print(f\"Digit Predicted by model is {answer}\")"
   ]
  },
  {
   "cell_type": "code",
   "execution_count": 67,
   "metadata": {},
   "outputs": [
    {
     "name": "stdout",
     "output_type": "stream",
     "text": [
      "1/1 [==============================] - 0s 54ms/step\n",
      "Digit Predicted by model is [7]\n"
     ]
    }
   ],
   "source": [
    "answer=finder(r'digits\\Prediction\\nine.png')\n",
    "print(f\"Digit Predicted by model is {answer}\")"
   ]
  },
  {
   "cell_type": "code",
   "execution_count": 77,
   "metadata": {},
   "outputs": [
    {
     "name": "stdout",
     "output_type": "stream",
     "text": [
      "1/1 [==============================] - 0s 71ms/step\n",
      "Digit Predicted by model is [1]\n"
     ]
    }
   ],
   "source": [
    "answer=finder(r'digits\\Prediction\\one.png')\n",
    "print(f\"Digit Predicted by model is {answer}\")"
   ]
  },
  {
   "cell_type": "code",
   "execution_count": 81,
   "metadata": {},
   "outputs": [
    {
     "name": "stdout",
     "output_type": "stream",
     "text": [
      "1/1 [==============================] - 0s 59ms/step\n",
      "Digit Predicted by model is [2]\n"
     ]
    }
   ],
   "source": [
    "answer=finder(r'digits\\Prediction\\two.png')\n",
    "print(f\"Digit Predicted by model is {answer}\")"
   ]
  }
 ],
 "metadata": {
  "kernelspec": {
   "display_name": "Python 3",
   "language": "python",
   "name": "python3"
  },
  "language_info": {
   "codemirror_mode": {
    "name": "ipython",
    "version": 3
   },
   "file_extension": ".py",
   "mimetype": "text/x-python",
   "name": "python",
   "nbconvert_exporter": "python",
   "pygments_lexer": "ipython3",
   "version": "3.11.4"
  },
  "orig_nbformat": 4
 },
 "nbformat": 4,
 "nbformat_minor": 2
}
