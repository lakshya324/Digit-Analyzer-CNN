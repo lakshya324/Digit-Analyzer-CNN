{
  "cells": [
    {
      "cell_type": "markdown",
      "metadata": {
        "id": "gZDrndNcwg-5"
      },
      "source": [
        "# Image Recogntion System"
      ]
    },
    {
      "cell_type": "markdown",
      "metadata": {
        "id": "uvlY_2x8weUK"
      },
      "source": [
        "## Importing Libraries"
      ]
    },
    {
      "cell_type": "code",
      "execution_count": 1,
      "metadata": {
        "id": "rTbVnoWIwgXW"
      },
      "outputs": [],
      "source": [
        "import numpy as np\n",
        "import pandas as pd\n",
        "import tensorflow as tf"
      ]
    },
    {
      "cell_type": "code",
      "execution_count": 2,
      "metadata": {
        "colab": {
          "base_uri": "https://localhost:8080/",
          "height": 35
        },
        "id": "PQ4GjrBPw3Ml",
        "outputId": "81b9bb62-9e3a-4b5b-ba21-0423f74619fe"
      },
      "outputs": [
        {
          "data": {
            "text/plain": [
              "'2.12.0'"
            ]
          },
          "execution_count": 2,
          "metadata": {},
          "output_type": "execute_result"
        }
      ],
      "source": [
        "tf.__version__"
      ]
    },
    {
      "cell_type": "markdown",
      "metadata": {
        "id": "d_sz_f5d7iMi"
      },
      "source": [
        "## Data Preporcessing"
      ]
    },
    {
      "cell_type": "code",
      "execution_count": 4,
      "metadata": {
        "id": "I8BEKN_F7h7n"
      },
      "outputs": [
        {
          "name": "stdout",
          "output_type": "stream",
          "text": [
            "Found 10160 images belonging to 10 classes.\n"
          ]
        }
      ],
      "source": [
        "from keras.preprocessing.image import ImageDataGenerator\n",
        "#Creating Object\n",
        "train_datagen = ImageDataGenerator(\n",
        "    rescale=1./255,\n",
        "    #Divide all pixel values by 255. Hence all values lies b/w 0 to 1\n",
        "    shear_range=0.2,\n",
        "    zoom_range=0.2,\n",
        "    horizontal_flip=True)\n",
        "\n",
        "#Importing Image\n",
        "training_set = train_datagen.flow_from_directory(\n",
        "        \"digits\\Training\",\n",
        "        target_size=(64,64),#Image Final Dimention which will be feed to model\n",
        "        batch_size=16,#Number of Images in each Batch\n",
        "        class_mode='categorical')"
      ]
    },
    {
      "cell_type": "code",
      "execution_count": 5,
      "metadata": {
        "id": "spead1nv79sI"
      },
      "outputs": [
        {
          "name": "stdout",
          "output_type": "stream",
          "text": [
            "Found 1146 images belonging to 10 classes.\n"
          ]
        }
      ],
      "source": [
        "#Creating Object\n",
        "test_datagen = ImageDataGenerator(rescale=1./255)\n",
        "\n",
        "#Importing Image from testing\n",
        "test_set = test_datagen.flow_from_directory(\n",
        "    \"digits\\Test\",\n",
        "    target_size = (64, 64),#Image Final Dimention which will be feed to model\n",
        "        #{Have to be same size as Training Images}\n",
        "    batch_size = 16,#Number of Images in each Batch\n",
        "    class_mode = 'categorical')"
      ]
    },
    {
      "cell_type": "markdown",
      "metadata": {
        "id": "76Et5_NZ9Jub"
      },
      "source": [
        "## CNN Model"
      ]
    },
    {
      "cell_type": "code",
      "execution_count": 8,
      "metadata": {
        "id": "3GeClTNd9FNS"
      },
      "outputs": [],
      "source": [
        "cnn=tf.keras.models.Sequential()\n",
        "# Adding Convolutional Layer\n",
        "cnn.add(tf.keras.layers.Conv2D(filters=32,kernel_size=3,activation='relu',input_shape=[64,64,3]))\n",
        "# Adding Pooling Layer\n",
        "cnn.add(tf.keras.layers.MaxPool2D(pool_size=2,strides=2))\n",
        "\n",
        "# Adding Secound Convolutional and Pooling Layer\n",
        "cnn.add(tf.keras.layers.Conv2D(filters=32,kernel_size=3,activation='relu'))\n",
        "#'input_shape=' parameter will not be used here as it automatically connects from previous layer\n",
        "cnn.add(tf.keras.layers.MaxPool2D(pool_size=2,strides=2))\n",
        "\n",
        "# Adding Flattening Layer\n",
        "cnn.add(tf.keras.layers.Flatten())\n",
        "#convert image into 1D array for processing of ANN\n",
        "\n",
        "#Fully Connection Layers ->\n",
        "  #Hidden layer\n",
        "cnn.add(tf.keras.layers.Dense(units=128,activation='relu'))\n",
        "  #Output layer\n",
        "cnn.add(tf.keras.layers.Dense(units=10,activation='softmax'))"
      ]
    },
    {
      "cell_type": "code",
      "execution_count": 9,
      "metadata": {
        "id": "DkC7rjlHAWaH"
      },
      "outputs": [
        {
          "name": "stdout",
          "output_type": "stream",
          "text": [
            "Epoch 1/25\n",
            "635/635 [==============================] - 86s 125ms/step - loss: 0.3701 - accuracy: 0.8861 - val_loss: 0.0760 - val_accuracy: 0.9782\n",
            "Epoch 2/25\n",
            "635/635 [==============================] - 68s 104ms/step - loss: 0.1008 - accuracy: 0.9690 - val_loss: 0.0952 - val_accuracy: 0.9703\n",
            "Epoch 3/25\n",
            "635/635 [==============================] - 72s 110ms/step - loss: 0.0633 - accuracy: 0.9813 - val_loss: 0.0503 - val_accuracy: 0.9791\n",
            "Epoch 4/25\n",
            "635/635 [==============================] - 85s 129ms/step - loss: 0.0480 - accuracy: 0.9849 - val_loss: 0.0118 - val_accuracy: 0.9956\n",
            "Epoch 5/25\n",
            "635/635 [==============================] - 77s 118ms/step - loss: 0.0406 - accuracy: 0.9857 - val_loss: 0.0103 - val_accuracy: 0.9965\n",
            "Epoch 6/25\n",
            "635/635 [==============================] - 76s 113ms/step - loss: 0.0311 - accuracy: 0.9902 - val_loss: 0.0048 - val_accuracy: 0.9983\n",
            "Epoch 7/25\n",
            "635/635 [==============================] - 72s 110ms/step - loss: 0.0246 - accuracy: 0.9912 - val_loss: 0.0061 - val_accuracy: 0.9974\n",
            "Epoch 8/25\n",
            "635/635 [==============================] - 70s 107ms/step - loss: 0.0251 - accuracy: 0.9924 - val_loss: 0.0130 - val_accuracy: 0.9956\n",
            "Epoch 9/25\n",
            "635/635 [==============================] - 71s 106ms/step - loss: 0.0218 - accuracy: 0.9938 - val_loss: 3.5786e-04 - val_accuracy: 1.0000\n",
            "Epoch 10/25\n",
            "635/635 [==============================] - 67s 103ms/step - loss: 0.0214 - accuracy: 0.9938 - val_loss: 0.0089 - val_accuracy: 0.9965\n",
            "Epoch 11/25\n",
            "635/635 [==============================] - 68s 104ms/step - loss: 0.0184 - accuracy: 0.9935 - val_loss: 0.0037 - val_accuracy: 0.9991\n",
            "Epoch 12/25\n",
            "635/635 [==============================] - 67s 102ms/step - loss: 0.0239 - accuracy: 0.9932 - val_loss: 0.0038 - val_accuracy: 0.9983\n",
            "Epoch 13/25\n",
            "635/635 [==============================] - 72s 109ms/step - loss: 0.0148 - accuracy: 0.9951 - val_loss: 0.0116 - val_accuracy: 0.9956\n",
            "Epoch 14/25\n",
            "635/635 [==============================] - 78s 119ms/step - loss: 0.0132 - accuracy: 0.9959 - val_loss: 0.0037 - val_accuracy: 0.9983\n",
            "Epoch 15/25\n",
            "635/635 [==============================] - 87s 132ms/step - loss: 0.0176 - accuracy: 0.9954 - val_loss: 0.0030 - val_accuracy: 0.9991\n",
            "Epoch 16/25\n",
            "635/635 [==============================] - 110s 163ms/step - loss: 0.0145 - accuracy: 0.9958 - val_loss: 0.0066 - val_accuracy: 0.9965\n",
            "Epoch 17/25\n",
            "635/635 [==============================] - 81s 124ms/step - loss: 0.0104 - accuracy: 0.9967 - val_loss: 8.6139e-04 - val_accuracy: 1.0000\n",
            "Epoch 18/25\n",
            "635/635 [==============================] - 85s 125ms/step - loss: 0.0152 - accuracy: 0.9951 - val_loss: 2.5479e-04 - val_accuracy: 1.0000\n",
            "Epoch 19/25\n",
            "635/635 [==============================] - 80s 122ms/step - loss: 0.0120 - accuracy: 0.9966 - val_loss: 0.0124 - val_accuracy: 0.9974\n",
            "Epoch 20/25\n",
            "635/635 [==============================] - 82s 126ms/step - loss: 0.0082 - accuracy: 0.9978 - val_loss: 0.0081 - val_accuracy: 0.9983\n",
            "Epoch 21/25\n",
            "635/635 [==============================] - 57s 88ms/step - loss: 0.0099 - accuracy: 0.9968 - val_loss: 5.7146e-04 - val_accuracy: 1.0000\n",
            "Epoch 22/25\n",
            "635/635 [==============================] - 64s 97ms/step - loss: 0.0125 - accuracy: 0.9967 - val_loss: 6.6586e-05 - val_accuracy: 1.0000\n",
            "Epoch 23/25\n",
            "635/635 [==============================] - 64s 96ms/step - loss: 0.0078 - accuracy: 0.9974 - val_loss: 1.2097e-04 - val_accuracy: 1.0000\n",
            "Epoch 24/25\n",
            "635/635 [==============================] - 93s 143ms/step - loss: 0.0069 - accuracy: 0.9975 - val_loss: 8.0953e-04 - val_accuracy: 0.9991\n",
            "Epoch 25/25\n",
            "635/635 [==============================] - 95s 146ms/step - loss: 0.0067 - accuracy: 0.9978 - val_loss: 0.0027 - val_accuracy: 0.9991\n"
          ]
        },
        {
          "data": {
            "text/plain": [
              "<keras.callbacks.History at 0x200c6e760d0>"
            ]
          },
          "execution_count": 9,
          "metadata": {},
          "output_type": "execute_result"
        }
      ],
      "source": [
        "cnn.compile(optimizer='adam',loss='categorical_crossentropy',metrics=['accuracy'])\n",
        "cnn.fit(x=training_set,validation_data=test_set,epochs=25)"
      ]
    },
    {
      "attachments": {},
      "cell_type": "markdown",
      "metadata": {
        "id": "0rK2bXBiDCo-"
      },
      "source": [
        "### Saving Program"
      ]
    },
    {
      "cell_type": "code",
      "execution_count": 10,
      "metadata": {},
      "outputs": [],
      "source": [
        "cnn.save('digit_reco_model.h5')"
      ]
    }
  ],
  "metadata": {
    "colab": {
      "provenance": []
    },
    "kernelspec": {
      "display_name": "Python 3",
      "name": "python3"
    },
    "language_info": {
      "codemirror_mode": {
        "name": "ipython",
        "version": 3
      },
      "file_extension": ".py",
      "mimetype": "text/x-python",
      "name": "python",
      "nbconvert_exporter": "python",
      "pygments_lexer": "ipython3",
      "version": "3.11.4"
    }
  },
  "nbformat": 4,
  "nbformat_minor": 0
}
